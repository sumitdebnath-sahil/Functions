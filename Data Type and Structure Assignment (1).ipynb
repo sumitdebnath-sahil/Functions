{
 "cells": [
  {
   "cell_type": "markdown",
   "id": "8ba259a2-efd5-4990-aee2-5564f7190c58",
   "metadata": {},
   "source": [
    "1. What are data structures, and why are they important?\n",
    "\n",
    "Ans. A data structure is a way of organizing, storing, and managing data efficiently to perform operations like searching, inserting, deleting, and sorting. Data structures define how data is arranged in memory and how algorithms process that data.\n",
    "\n",
    "Importance of Data Structures:\n",
    "Efficient Data Management – They help store and manage large amounts of data efficiently, reducing time and space complexity.\n",
    "\n",
    "Optimized Performance – Proper data structures improve the speed and efficiency of algorithms, especially in searching and sorting.\n",
    "\n",
    "Code Organization – They help structure code in a logical manner, making it easier to maintain and debug.\n",
    "\n",
    "Scalability – Efficient data structures allow programs to handle growing amounts of data without performance degradation.\n",
    "\n",
    "Better Problem-Solving – Many computational problems rely on choosing the right data structure for an optimal solution."
   ]
  },
  {
   "cell_type": "markdown",
   "id": "a1b1eeb3-beea-4d06-b388-eace0e80bf79",
   "metadata": {},
   "source": [
    "2.Explain the difference between mutable and immutable data types with examples.\n",
    "\n",
    "Ans. Mutable Data Types: Mutable data types allow modifications after creation, meaning their content can be changed without changing their memory address. ex. list, set\n",
    "Immutable Data Types: Immutable data types cannot be changed after creation. If modified, a new object is created with a different memory address.\n",
    "ex. Tuple, string, integers\n"
   ]
  },
  {
   "cell_type": "markdown",
   "id": "4b3feac5-45d0-4406-a369-4171a50ce4d4",
   "metadata": {},
   "source": [
    "3. What are the main differences between lists and tuples in Python?\n",
    "Ans. Both lists and tuples are used to store collections of items, but they have key differences in behavior, performance, and use cases.\n",
    "List: Mutable (can be modified), Defined using [ ], Can add (append()), remove (remove()), Suitable for dynamic collections\n",
    "Tuple: Immutable (cannot be modified), Defined using ( ), Cannot modify elements after creation, Suitable for fixed collections and performance optimization"
   ]
  },
  {
   "cell_type": "markdown",
   "id": "372ae6fd-b3c7-42c8-8846-6176e2e28984",
   "metadata": {},
   "source": [
    "4. Describe how dictionaries store data.\n",
    "Ans. A dictionary (dict) in Python is a data structure that stores key-value pairs using a hashing mechanism. This allows for fast lookups, insertions, and deletions, typically in O(1) time complexity."
   ]
  },
  {
   "cell_type": "markdown",
   "id": "11de5420-4de3-44fc-9fb2-0747c4ec7653",
   "metadata": {},
   "source": [
    "5. Why might you use a set instead of a list in Python?\n",
    "Ans. A set is an unordered collection of unique elements. While lists allow duplicate values and maintain order, sets provide fast lookups and eliminate duplicates automatically.\n",
    "Sets automatically remove duplicates, while lists allow them. If we need a collection of unique values, a set is the better choice."
   ]
  },
  {
   "cell_type": "markdown",
   "id": "dbddb4a6-a376-45df-8225-5b9d8886a01a",
   "metadata": {},
   "source": [
    "6. What is a string in Python, and how is it different from a list?\n",
    "Ans. A string in Python is a sequence of characters enclosed in quotes (\"\" or ''). Strings are immutable, meaning they cannot be modified after creation. Supports string-specific methods (.upper(), .split())\n",
    "A list is mutable and defined within []. Supports list-specific methods (.append(), .pop())"
   ]
  },
  {
   "cell_type": "markdown",
   "id": "ddfa2871-e9d7-4c24-9326-78d8ae3cea2e",
   "metadata": {},
   "source": [
    "7. How do tuples ensure data integrity in Python?\n",
    "Ans. Since tuples cannot be modified, their data remains consistent and secure throughout the program. This prevents unintended alterations, which can be a risk with mutable data structures like lists."
   ]
  },
  {
   "cell_type": "markdown",
   "id": "1818f55a-fe47-487d-82c5-30b6aa83eaf8",
   "metadata": {},
   "source": [
    "8. What is a hash table, and how does it relate to dictionaries in Python?\n",
    "Ans. A hash table (also called a hash map) is a data structure that stores key-value pairs and provides fast lookups, insertions, and deletions in O(1) average time complexity. It works by using a hash function to map keys to specific locations (indices) in memory.\n",
    "A hash function computes a unique hash value for each key. The hash value determines the index in an array (called a hash table).\n"
   ]
  },
  {
   "cell_type": "markdown",
   "id": "5ea15f21-a777-49b0-9d58-dbc088fe465c",
   "metadata": {},
   "source": [
    "9. Can lists contain different data types in Python?\n",
    "Ans. Yes, in Python, lists can store elements of different data types. Unlike arrays in some programming languages (which require elements to be of the same type), Python lists are heterogeneous, meaning they can hold a mix of integers, strings, floats, booleans, objects, and even other lists."
   ]
  },
  {
   "cell_type": "markdown",
   "id": "6f3201f6-662d-4515-9750-72600cb37587",
   "metadata": {},
   "source": [
    "10. Explain why strings are immutable in Python?\n",
    "Ans. Python reuses strings in memory to optimize performance. If strings were mutable, modifying one string could unintentionally affect another.\n",
    "Since strings cannot be changed, they are safe for storing sensitive data (e.g., passwords, database keys). Strings are hashable (due to immutability), making them usable as dictionary keys and set elements."
   ]
  },
  {
   "cell_type": "markdown",
   "id": "b1034c22-efaa-4e71-8c93-9ff164ea05ae",
   "metadata": {},
   "source": [
    "11. What advantages do dictionaries offer over lists for certain tasks?\n",
    "Ans. Dictionaries: Lookups are O(1) (constant time) because they use hashing. Dictionaries allow descriptive keys, improving code clarity.Dictionaries provide direct access using keys (O(1)).\n",
    "\n",
    "Lists: Lookups require O(n) (linear time) because Python must scan the list. Lists require indexing (list[i]), which can be less readable. With a list, you must iterate to find an element (O(n))."
   ]
  },
  {
   "cell_type": "markdown",
   "id": "deae09e5-7e34-4d55-ae09-ccee65e5f9de",
   "metadata": {},
   "source": [
    "12. Describe a scenario where using a tuple would be preferable over a list?\n",
    "Ans. Scenario: Storing GPS Coordinates (Latitude & Longitude)\n",
    "Imagine we are developing a mapping application where we need to store GPS coordinates (latitude and longitude). These coordinates should remain constant throughout the program. GPS coordinates do not change once assigned, so a tuple ensures data integrity."
   ]
  },
  {
   "cell_type": "raw",
   "id": "02e82e79-f439-4993-bc7c-4d342f46bfea",
   "metadata": {},
   "source": [
    "13. How do sets handle duplicate values in Python?\n",
    "Ans. Sets use a hash table internally, where each element is stored at a unique position based on its hash value. If a new element has the same hash as an existing one, it overwrites the previous entry instead of creating a duplicate."
   ]
  },
  {
   "cell_type": "markdown",
   "id": "38bb1d9d-1001-48af-a767-873ccaa72867",
   "metadata": {},
   "source": [
    "14. How does the “in” keyword work differently for lists and dictionaries?\n",
    "Ans. When used with a list, in checks whether a value exists in the list.It performs a linear search (O(n)), meaning it checks each element one by one.\n",
    "\n",
    "When used with a dictionary, in checks only for keys, not values. It uses hashing, making lookups fast (O(1))."
   ]
  },
  {
   "cell_type": "markdown",
   "id": "3ef729ec-43df-43c5-ad82-d5cc9f36bb11",
   "metadata": {},
   "source": [
    "15. Can you modify the elements of a tuple? Explain why or why not?\n",
    "Ans. No, you cannot modify the elements of a tuple in Python because tuples are immutable. Once a tuple is created, its elements cannot be changed, added, or removed."
   ]
  },
  {
   "cell_type": "markdown",
   "id": "b75c0b29-1a38-4e7e-8d57-9a86a0ba22a6",
   "metadata": {},
   "source": [
    "16. What is a nested dictionary, and give an example of its use case?\n",
    "Ans. A nested dictionary is a dictionary that contains another dictionary as its value. It allows you to store and organize hierarchical or structured data. A nested dictionary is useful when storing structured data, such as student records, employee details, or product catalogs."
   ]
  },
  {
   "cell_type": "markdown",
   "id": "e26945e6-85b6-4215-a584-90d08cd1acee",
   "metadata": {},
   "source": [
    "17. Describe the time complexity of accessing elements in a dictionary.\n",
    "Ans. In Python, dictionaries are implemented using a hash table, which allows for fast lookups. The time complexity depends on the operation:\n",
    "Dictionary lookups are O(1) on average because Python uses hashing to map keys to values. This means accessing an element is constant time, regardless of the dictionary’s size."
   ]
  },
  {
   "cell_type": "markdown",
   "id": "d2e3cec0-a905-4106-8ebc-eb3cee3e0d12",
   "metadata": {},
   "source": [
    "18. In what situations are lists preferred over dictionaries.\n",
    "Ans. While dictionaries offer fast lookups (O(1)) and key-value mapping, lists are preferred in certain situations where order, indexing, or simplicity is important.\n",
    "Lists allow direct access by index (list[i]) in O(1) time.\n",
    "Dictionaries require keys, so accessing elements via numerical indices is not as straightforward."
   ]
  },
  {
   "cell_type": "markdown",
   "id": "557404e2-fa14-4030-a401-519921063af5",
   "metadata": {},
   "source": [
    "19. Why are dictionaries considered unordered, and how does that affect data retrieval?\n",
    "Ans. Dictionaries in Python were historically unordered because they use a hash table for storing key-value pairs. This means:\n",
    "Elements are not stored sequentially like in a list. Keys are hashed to determine where values are stored in memory.\n",
    "Unlike lists, where elements can be accessed via indexes (list[i]), dictionaries require keys (dict[key]). You cannot access elements by position, only by key.\n"
   ]
  },
  {
   "cell_type": "markdown",
   "id": "eab927fb-4cba-477e-9259-22f91f0f1fa7",
   "metadata": {},
   "source": [
    "20. Explain the difference between a list and a dictionary in terms of data retrieval.\n",
    "Ans. Both lists and dictionaries store data, but they handle retrieval very differently based on their structure and lookup mechanisms.\n",
    "Lists store elements sequentially and use index-based retrieval (list[i]). If the index is known, retrieval is O(1) (constant time). If searching for an element, retrieval is O(n) (linear time), as Python scans each item.\n",
    "\n",
    "Dictionaries use key-value pairs and store data in a hash table. Retrieval by key is O(1) on average (constant time). No index-based access, only key lookups."
   ]
  },
  {
   "cell_type": "markdown",
   "id": "2210a167-d0ac-4427-afe4-748bf2d8d9c4",
   "metadata": {},
   "source": [
    "Practical Questions"
   ]
  },
  {
   "cell_type": "markdown",
   "id": "de5314eb-db35-44aa-9667-dbe478d43438",
   "metadata": {},
   "source": [
    "1. Write a code to create a string with your name and print it."
   ]
  },
  {
   "cell_type": "code",
   "execution_count": 1,
   "id": "5ed57b09-951a-4c63-958d-154a0f339d5e",
   "metadata": {},
   "outputs": [
    {
     "name": "stdout",
     "output_type": "stream",
     "text": [
      "sumit\n"
     ]
    }
   ],
   "source": [
    "name=\"sumit\"\n",
    "print(name)"
   ]
  },
  {
   "cell_type": "markdown",
   "id": "f1eb4ce4-5cfb-4f9f-853c-90a73a679388",
   "metadata": {},
   "source": [
    "2. Write a code to find the length of the string \"Hello World\"."
   ]
  },
  {
   "cell_type": "code",
   "execution_count": 2,
   "id": "b719d366-f2d3-4feb-ae04-44551af3c9e4",
   "metadata": {},
   "outputs": [
    {
     "name": "stdout",
     "output_type": "stream",
     "text": [
      "11\n"
     ]
    }
   ],
   "source": [
    "a= \"Hello World\"\n",
    "print(len(a))"
   ]
  },
  {
   "cell_type": "markdown",
   "id": "635510f9-d5b3-4e8e-9d2e-38e3ee60d7b2",
   "metadata": {},
   "source": [
    "3. Write a code to slice the first 3 characters from the string \"Python Programming\"."
   ]
  },
  {
   "cell_type": "code",
   "execution_count": 3,
   "id": "e1503527-8aa5-4294-ae39-044c790ae761",
   "metadata": {},
   "outputs": [
    {
     "data": {
      "text/plain": [
       "'Pyt'"
      ]
     },
     "execution_count": 3,
     "metadata": {},
     "output_type": "execute_result"
    }
   ],
   "source": [
    "a=\"Python Programming\"\n",
    "a[0:3]\n"
   ]
  },
  {
   "cell_type": "markdown",
   "id": "b88e009a-2e78-4623-923c-bf6f2faf5f47",
   "metadata": {},
   "source": [
    "4. Write a code to convert the string \"hello\" to uppercase."
   ]
  },
  {
   "cell_type": "code",
   "execution_count": 4,
   "id": "42dda5f8-de13-4298-a8c8-7d0aa2449462",
   "metadata": {},
   "outputs": [
    {
     "name": "stdout",
     "output_type": "stream",
     "text": [
      "HELLO\n"
     ]
    }
   ],
   "source": [
    "a=\"hello\"\n",
    "print(a.upper())"
   ]
  },
  {
   "cell_type": "markdown",
   "id": "65b4ad77-73da-44fc-b8e8-5a3521f716c3",
   "metadata": {},
   "source": [
    "5. Write a code to replace the word \"apple\" with \"orange\" in the string \"I like apple\"."
   ]
  },
  {
   "cell_type": "code",
   "execution_count": 5,
   "id": "9910c04a-632d-42fa-b993-566dcfc98b8d",
   "metadata": {},
   "outputs": [
    {
     "name": "stdout",
     "output_type": "stream",
     "text": [
      "I like orange\n"
     ]
    }
   ],
   "source": [
    "a= \"I like apple\"\n",
    "b=a.replace(\"apple\", \"orange\")\n",
    "print(b)"
   ]
  },
  {
   "cell_type": "markdown",
   "id": "4f31d004-781f-429d-857c-80d7db4d06be",
   "metadata": {},
   "source": [
    "6. Write a code to create a list with numbers 1 to 5 and print it."
   ]
  },
  {
   "cell_type": "code",
   "execution_count": 6,
   "id": "4adf86c4-3c7e-401b-ab5a-4880778f8785",
   "metadata": {},
   "outputs": [
    {
     "name": "stdout",
     "output_type": "stream",
     "text": [
      "[1, 2, 3, 4, 5]\n"
     ]
    }
   ],
   "source": [
    "a= [1,2,3,4,5]\n",
    "print(a)"
   ]
  },
  {
   "cell_type": "markdown",
   "id": "c3d23358-8619-444a-9266-f538ad261a21",
   "metadata": {},
   "source": [
    "7. Write a code to append the number 10 to the list [1, 2, 3, 4]."
   ]
  },
  {
   "cell_type": "code",
   "execution_count": 7,
   "id": "18704384-d536-4140-bc91-e6f530bb4d83",
   "metadata": {},
   "outputs": [
    {
     "name": "stdout",
     "output_type": "stream",
     "text": [
      "[1, 2, 3, 4, 10]\n"
     ]
    }
   ],
   "source": [
    "a= [1,2,3,4]\n",
    "a.append(10)\n",
    "print(a)"
   ]
  },
  {
   "cell_type": "markdown",
   "id": "57b1c136-ea34-4766-be9f-66f073c052b1",
   "metadata": {},
   "source": [
    "8. Write a code to remove the number 3 from the list [1, 2, 3, 4, 5]."
   ]
  },
  {
   "cell_type": "code",
   "execution_count": 8,
   "id": "ebb6bd57-e865-403f-9688-bb9ed8f6c222",
   "metadata": {},
   "outputs": [
    {
     "name": "stdout",
     "output_type": "stream",
     "text": [
      "[1, 2, 4, 5]\n"
     ]
    }
   ],
   "source": [
    "numbers = [1, 2, 3, 4, 5]\n",
    "numbers.remove(3)\n",
    "print(numbers)"
   ]
  },
  {
   "cell_type": "markdown",
   "id": "d4b1b828-0ae3-49dc-a358-cbe2641bd444",
   "metadata": {},
   "source": [
    "9. Write a code to access the second element in the list ['a', 'b', 'c', 'd']."
   ]
  },
  {
   "cell_type": "code",
   "execution_count": 9,
   "id": "261481f1-2a72-4710-910f-b9c371fa22ae",
   "metadata": {},
   "outputs": [
    {
     "name": "stdout",
     "output_type": "stream",
     "text": [
      "b\n"
     ]
    }
   ],
   "source": [
    "letters = ['a', 'b', 'c', 'd']\n",
    "second_element = letters[1]\n",
    "print(second_element)"
   ]
  },
  {
   "cell_type": "markdown",
   "id": "f831f7a4-e88e-461f-a289-08f5295165e6",
   "metadata": {},
   "source": [
    "10. Write a code to reverse the list [10, 20, 30, 40, 50]."
   ]
  },
  {
   "cell_type": "code",
   "execution_count": 10,
   "id": "90f6b028-d02f-40fa-bc91-8004f5a6cd57",
   "metadata": {},
   "outputs": [
    {
     "name": "stdout",
     "output_type": "stream",
     "text": [
      "[50, 40, 30, 20, 10]\n"
     ]
    }
   ],
   "source": [
    "numbers = [10, 20, 30, 40, 50]\n",
    "numbers.reverse()\n",
    "print(numbers)"
   ]
  },
  {
   "cell_type": "markdown",
   "id": "af4c0b7e-e92c-438e-9961-3de5f1739401",
   "metadata": {},
   "source": [
    "11. Write a code to create a tuple with the elements 100, 200, 300 and print it."
   ]
  },
  {
   "cell_type": "code",
   "execution_count": 11,
   "id": "06651c30-ee45-4b4b-94ed-6494ab42487d",
   "metadata": {},
   "outputs": [
    {
     "name": "stdout",
     "output_type": "stream",
     "text": [
      "(100, 200, 300)\n"
     ]
    }
   ],
   "source": [
    "numbers = (100, 200, 300)\n",
    "print(numbers)"
   ]
  },
  {
   "cell_type": "markdown",
   "id": "3eb55501-a2d5-4123-97b9-82c29e73eac7",
   "metadata": {},
   "source": [
    "12. Write a code to access the second-to-last element of the tuple ('red', 'green', 'blue', 'yellow')."
   ]
  },
  {
   "cell_type": "code",
   "execution_count": 12,
   "id": "daa148a5-7f8f-4dec-931f-a4658f9283b1",
   "metadata": {},
   "outputs": [
    {
     "name": "stdout",
     "output_type": "stream",
     "text": [
      "blue\n"
     ]
    }
   ],
   "source": [
    "colors = ('red', 'green', 'blue', 'yellow')\n",
    "second_to_last = colors[-2] \n",
    "print(second_to_last)"
   ]
  },
  {
   "cell_type": "markdown",
   "id": "efdb3b45-081e-4a6c-8b65-15478dd457ed",
   "metadata": {},
   "source": [
    "13. Write a code to find the minimum number in the tuple (10, 20, 5, 15)."
   ]
  },
  {
   "cell_type": "code",
   "execution_count": 13,
   "id": "ef7af474-d5f8-44fa-82d1-45a43d6981a9",
   "metadata": {},
   "outputs": [
    {
     "name": "stdout",
     "output_type": "stream",
     "text": [
      "Minimum number: 5\n"
     ]
    }
   ],
   "source": [
    "numbers = (10, 20, 5, 15)\n",
    "min_number = min(numbers)\n",
    "print(\"Minimum number:\", min_number)"
   ]
  },
  {
   "cell_type": "markdown",
   "id": "180de545-f16c-4849-8809-360523b1b504",
   "metadata": {},
   "source": [
    "14. Write a code to find the index of the element \"cat\" in the tuple ('dog', 'cat', 'rabbit')."
   ]
  },
  {
   "cell_type": "code",
   "execution_count": 14,
   "id": "dcaf641a-a55d-406b-bd6a-2f6bf940f40e",
   "metadata": {},
   "outputs": [
    {
     "name": "stdout",
     "output_type": "stream",
     "text": [
      "Index of 'cat': 1\n"
     ]
    }
   ],
   "source": [
    "animals = ('dog', 'cat', 'rabbit')\n",
    "index_of_cat = animals.index('cat')\n",
    "print(\"Index of 'cat':\", index_of_cat)"
   ]
  },
  {
   "cell_type": "markdown",
   "id": "85b742ef-d980-4d70-ae97-bf998318b167",
   "metadata": {},
   "source": [
    "15. Write a code to create a tuple containing three different fruits and check if \"kiwi\" is in it."
   ]
  },
  {
   "cell_type": "code",
   "execution_count": 15,
   "id": "7244c9e5-3f1a-41b6-a313-0e3be362b9b4",
   "metadata": {},
   "outputs": [
    {
     "name": "stdout",
     "output_type": "stream",
     "text": [
      "Kiwi is not in the tuple.\n"
     ]
    }
   ],
   "source": [
    "fruits = ('apple', 'banana', 'orange')\n",
    "if 'kiwi' in fruits:\n",
    "    print(\"Kiwi is in the tuple.\")\n",
    "else:\n",
    "    print(\"Kiwi is not in the tuple.\")"
   ]
  },
  {
   "cell_type": "markdown",
   "id": "868056da-7871-4d72-a97f-c63814f0358a",
   "metadata": {},
   "source": [
    "16. Write a code to create a set with the elements 'a', 'b', 'c' and print it."
   ]
  },
  {
   "cell_type": "code",
   "execution_count": 16,
   "id": "75f54df3-3b9d-46d7-9366-0ac793e22e82",
   "metadata": {},
   "outputs": [
    {
     "name": "stdout",
     "output_type": "stream",
     "text": [
      "{'b', 'c', 'a'}\n"
     ]
    }
   ],
   "source": [
    "letters = set(['a', 'b', 'c'])\n",
    "print(letters)\n"
   ]
  },
  {
   "cell_type": "markdown",
   "id": "93a2d6e1-504f-4771-9672-284e85c88452",
   "metadata": {},
   "source": [
    "17. Write a code to clear all elements from the set {1, 2, 3, 4, 5}."
   ]
  },
  {
   "cell_type": "code",
   "execution_count": 17,
   "id": "14622912-1647-4cd0-be90-ca0d50998efb",
   "metadata": {},
   "outputs": [
    {
     "name": "stdout",
     "output_type": "stream",
     "text": [
      "set()\n"
     ]
    }
   ],
   "source": [
    "numbers = {1, 2, 3, 4, 5}\n",
    "numbers.clear()  \n",
    "print(numbers)"
   ]
  },
  {
   "cell_type": "markdown",
   "id": "e0e62280-7519-4e60-a98f-16324be1f066",
   "metadata": {},
   "source": [
    "18. Write a code to remove the element 4 from the set {1, 2, 3, 4}."
   ]
  },
  {
   "cell_type": "code",
   "execution_count": 18,
   "id": "0274667e-5ddf-493f-8c84-1fcf26e500a2",
   "metadata": {},
   "outputs": [
    {
     "name": "stdout",
     "output_type": "stream",
     "text": [
      "{1, 2, 3}\n"
     ]
    }
   ],
   "source": [
    "numbers = {1, 2, 3, 4}\n",
    "numbers.remove(4) \n",
    "print(numbers)"
   ]
  },
  {
   "cell_type": "markdown",
   "id": "81c89a03-8161-48fb-a021-debc06b6ed17",
   "metadata": {},
   "source": [
    "19. Write a code to find the union of two sets {1, 2, 3} and {3, 4, 5}."
   ]
  },
  {
   "cell_type": "code",
   "execution_count": 19,
   "id": "728b628b-2e36-4a27-8de7-147f817fc9a2",
   "metadata": {},
   "outputs": [
    {
     "name": "stdout",
     "output_type": "stream",
     "text": [
      "{1, 2, 3, 4, 5}\n"
     ]
    }
   ],
   "source": [
    "set1 = {1, 2, 3}\n",
    "set2 = {3, 4, 5}\n",
    "union_set = set1.union(set2)\n",
    "print(union_set)"
   ]
  },
  {
   "cell_type": "markdown",
   "id": "81395e8d-74ce-4bd8-bf51-3deb7ddf4cfc",
   "metadata": {},
   "source": [
    "20. Write a code to find the intersection of two sets {1, 2, 3} and {2, 3, 4}."
   ]
  },
  {
   "cell_type": "code",
   "execution_count": 20,
   "id": "9390f07e-92a9-45b8-b3c7-e7a0bbf3678a",
   "metadata": {},
   "outputs": [
    {
     "name": "stdout",
     "output_type": "stream",
     "text": [
      "{2, 3}\n"
     ]
    }
   ],
   "source": [
    "set1 = {1, 2, 3}\n",
    "set2 = {2, 3, 4}\n",
    "intersection_set = set1.intersection(set2) \n",
    "print(intersection_set)"
   ]
  },
  {
   "cell_type": "markdown",
   "id": "36764b05-3a6e-4b16-a76a-ea4fca0b51f5",
   "metadata": {},
   "source": [
    "21. Write a code to create a dictionary with the keys \"name\", \"age\", and \"city\", and print it."
   ]
  },
  {
   "cell_type": "code",
   "execution_count": 21,
   "id": "5f70e12f-9a40-4321-97de-78600d1fd443",
   "metadata": {},
   "outputs": [
    {
     "name": "stdout",
     "output_type": "stream",
     "text": [
      "{'name': 'Alice', 'age': 25, 'city': 'New York'}\n"
     ]
    }
   ],
   "source": [
    "person = {\n",
    "    \"name\": \"Alice\",\n",
    "    \"age\": 25,\n",
    "    \"city\": \"New York\"\n",
    "}\n",
    "print(person)"
   ]
  },
  {
   "cell_type": "markdown",
   "id": "583faf63-eb60-47c8-b21c-d98a501fd478",
   "metadata": {},
   "source": [
    "22. Write a code to add a new key-value pair \"country\": \"USA\" to the dictionary {'name': 'John', 'age': 25}."
   ]
  },
  {
   "cell_type": "code",
   "execution_count": 22,
   "id": "4e1b570c-ea60-4d14-b4ab-7e3b3447116d",
   "metadata": {},
   "outputs": [
    {
     "name": "stdout",
     "output_type": "stream",
     "text": [
      "{'name': 'John', 'age': 25, 'Country': 'USA'}\n"
     ]
    }
   ],
   "source": [
    "person = {'name': 'John', 'age': 25}\n",
    "d={\"Country\":\"USA\"}\n",
    "person.update(d)\n",
    "print(person)"
   ]
  },
  {
   "cell_type": "markdown",
   "id": "89818aa4-845e-4d23-8719-710950ce95b6",
   "metadata": {},
   "source": [
    "23. Write a code to access the value associated with the key \"name\" in the dictionary {'name': 'Alice', 'age': 30}."
   ]
  },
  {
   "cell_type": "code",
   "execution_count": 23,
   "id": "701c87cc-e9e1-4557-bf96-3c30138d32d1",
   "metadata": {},
   "outputs": [
    {
     "name": "stdout",
     "output_type": "stream",
     "text": [
      "Alice\n"
     ]
    }
   ],
   "source": [
    "person = {'name': 'Alice', 'age': 30}\n",
    "person.get('name')\n",
    "print(person.get('name'))"
   ]
  },
  {
   "cell_type": "markdown",
   "id": "7ca502f9-4e0f-4265-bbfd-517153a15509",
   "metadata": {},
   "source": [
    "24. Write a code to remove the key \"age\" from the dictionary {'name': 'Bob', 'age': 22, 'city': 'New York'}."
   ]
  },
  {
   "cell_type": "code",
   "execution_count": 24,
   "id": "1f8a7db5-60f1-4939-afb3-63d55d74df7f",
   "metadata": {},
   "outputs": [
    {
     "name": "stdout",
     "output_type": "stream",
     "text": [
      "{'age': 22, 'city': 'New York'}\n"
     ]
    }
   ],
   "source": [
    "student_data= {'name': 'Bob', 'age': 22, 'city': 'New York'}\n",
    "student_data.pop(\"name\")\n",
    "print(student_data)"
   ]
  },
  {
   "cell_type": "markdown",
   "id": "674af12b-3f32-4f82-bae4-a1d5bc4e23cf",
   "metadata": {},
   "source": [
    "25. Write a code to check if the key \"city\" exists in the dictionary {'name': 'Alice', 'city': 'Paris'}."
   ]
  },
  {
   "cell_type": "code",
   "execution_count": 25,
   "id": "ca8be38a-e83b-4451-ae1e-74fad15ee7e8",
   "metadata": {},
   "outputs": [
    {
     "name": "stdout",
     "output_type": "stream",
     "text": [
      "The key 'city' exists in the dictionary.\n"
     ]
    }
   ],
   "source": [
    "person = {'name': 'Alice', 'city': 'Paris'}\n",
    "if 'city' in person:\n",
    "    print(\"The key 'city' exists in the dictionary.\")\n",
    "else:\n",
    "    print(\"The key 'city' does not exist in the dictionary.\")"
   ]
  },
  {
   "cell_type": "markdown",
   "id": "d19548a6-8e87-4dea-b657-9116555991b9",
   "metadata": {},
   "source": [
    "26. Write a code to create a list, a tuple, and a dictionary, and print them all."
   ]
  },
  {
   "cell_type": "code",
   "execution_count": 26,
   "id": "0823e932-c40e-4444-b427-640aa222d799",
   "metadata": {},
   "outputs": [
    {
     "name": "stdout",
     "output_type": "stream",
     "text": [
      "List: [1, 2, 3, 4, 5]\n",
      "Tuple: ('apple', 'banana', 'cherry')\n",
      "Dictionary: {'name': 'Alice', 'age': 25, 'city': 'New York'}\n"
     ]
    }
   ],
   "source": [
    "my_list = [1, 2, 3, 4, 5]\n",
    "\n",
    "# Creating a tuple\n",
    "my_tuple = ('apple', 'banana', 'cherry')\n",
    "\n",
    "# Creating a dictionary\n",
    "my_dict = {'name': 'Alice', 'age': 25, 'city': 'New York'}\n",
    "\n",
    "# Printing all\n",
    "print(\"List:\", my_list)\n",
    "print(\"Tuple:\", my_tuple)\n",
    "print(\"Dictionary:\", my_dict)"
   ]
  },
  {
   "cell_type": "markdown",
   "id": "f59ccb01-d9b9-415f-9a0b-6ea6269210c4",
   "metadata": {},
   "source": [
    "27. Write a code to create a list of 5 random numbers between 1 and 100, sort it in ascending order, and print the \n",
    "result.(replaced)"
   ]
  },
  {
   "cell_type": "code",
   "execution_count": 27,
   "id": "e9a5ea08-1283-4c02-a78c-4c312e8d4fc1",
   "metadata": {},
   "outputs": [
    {
     "name": "stdout",
     "output_type": "stream",
     "text": [
      "Sorted random numbers: [16, 37, 39, 41, 96]\n"
     ]
    }
   ],
   "source": [
    "import random\n",
    "random_numbers = random.sample(range(1, 101), 5)\n",
    "\n",
    "# Sort the list in ascending order\n",
    "random_numbers.sort()\n",
    "\n",
    "# Print the result\n",
    "print(\"Sorted random numbers:\", random_numbers)"
   ]
  },
  {
   "cell_type": "markdown",
   "id": "2a9ecebb-681c-4fe0-9f7b-fbb65ad562ea",
   "metadata": {},
   "source": [
    "28. Write a code to create a list with strings and print the element at the third index."
   ]
  },
  {
   "cell_type": "code",
   "execution_count": 28,
   "id": "0bd95009-90ed-48e5-9b18-bf6e4b5194e5",
   "metadata": {},
   "outputs": [
    {
     "name": "stdout",
     "output_type": "stream",
     "text": [
      "Element at index 3: date\n"
     ]
    }
   ],
   "source": [
    "# Creating a list with strings\n",
    "words = [\"apple\", \"banana\", \"cherry\", \"date\", \"elderberry\"]\n",
    "\n",
    "# Accessing the element at index 3\n",
    "third_index_element = words[3]\n",
    "\n",
    "# Printing the result\n",
    "print(\"Element at index 3:\", third_index_element)"
   ]
  },
  {
   "cell_type": "markdown",
   "id": "e34d29c5-4ceb-4968-b305-21946d2c3b69",
   "metadata": {},
   "source": [
    "29. Write a code to combine two dictionaries into one and print the result."
   ]
  },
  {
   "cell_type": "code",
   "execution_count": 29,
   "id": "ecc6dda4-cc2b-4a1d-945b-b496652945b2",
   "metadata": {},
   "outputs": [
    {
     "name": "stdout",
     "output_type": "stream",
     "text": [
      "{'a': 1, 'b': 2, 'c': 3, 'd': 4}\n"
     ]
    }
   ],
   "source": [
    "# Creating two dictionaries\n",
    "dict1 = {'a': 1, 'b': 2}\n",
    "dict2 = {'c': 3, 'd': 4}\n",
    "dict1.update(dict2)\n",
    "print(dict1)"
   ]
  },
  {
   "cell_type": "markdown",
   "id": "c71a8b96-16bb-4a9e-9aac-5d6f3ee3936d",
   "metadata": {},
   "source": [
    "30. Write a code to convert a list of strings into a set."
   ]
  },
  {
   "cell_type": "code",
   "execution_count": 30,
   "id": "82a0d470-3061-45b4-b707-9f50ae908fef",
   "metadata": {},
   "outputs": [
    {
     "name": "stdout",
     "output_type": "stream",
     "text": [
      "Set: {'apple', 'cherry', 'banana'}\n"
     ]
    }
   ],
   "source": [
    "# Creating a list of strings\n",
    "words_list = [\"apple\", \"banana\", \"cherry\", \"apple\", \"banana\"]\n",
    "\n",
    "# Converting the list to a set\n",
    "words_set = set(words_list)\n",
    "\n",
    "# Printing the result\n",
    "print(\"Set:\", words_set)"
   ]
  },
  {
   "cell_type": "code",
   "execution_count": null,
   "id": "5563c892-0b5d-446a-8f70-4c61331d3f02",
   "metadata": {},
   "outputs": [],
   "source": []
  },
  {
   "cell_type": "markdown",
   "id": "4e5e0da5-5fe5-4d3e-bbfa-a0676e71adf0",
   "metadata": {},
   "source": []
  }
 ],
 "metadata": {
  "kernelspec": {
   "display_name": "Python 3 (ipykernel)",
   "language": "python",
   "name": "python3"
  },
  "language_info": {
   "codemirror_mode": {
    "name": "ipython",
    "version": 3
   },
   "file_extension": ".py",
   "mimetype": "text/x-python",
   "name": "python",
   "nbconvert_exporter": "python",
   "pygments_lexer": "ipython3",
   "version": "3.12.7"
  }
 },
 "nbformat": 4,
 "nbformat_minor": 5
}
